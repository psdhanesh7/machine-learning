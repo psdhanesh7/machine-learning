{
 "cells": [
  {
   "cell_type": "code",
   "execution_count": 21,
   "metadata": {},
   "outputs": [
    {
     "name": "stdout",
     "output_type": "stream",
     "text": [
      "[1, 'ac', 3, 2]\n",
      "[1, 21, 'ac', 3, 2]\n"
     ]
    },
    {
     "data": {
      "text/plain": [
       "[1, 21, 'ac', 3, 2, 1, 2, 3, 4]"
      ]
     },
     "execution_count": 21,
     "metadata": {},
     "output_type": "execute_result"
    }
   ],
   "source": [
    "# Ways of adding elements to the list \n",
    "\n",
    "# using append() - To insert an element into the last index of the list\n",
    "l = [1, \"ac\", 3]\n",
    "l.append(2)\n",
    "print(l)\n",
    "\n",
    "# using insert() - To insert an element to a particular index in the list\n",
    "l.insert(1, 21)\n",
    "print(l)\n",
    "\n",
    "# using extend() - To insert all the elements of another list to the end of our current list\n",
    "l2 = [1, 2, 3, 4]\n",
    "l.extend(l2)\n",
    "l"
   ]
  },
  {
   "cell_type": "code",
   "execution_count": 22,
   "metadata": {},
   "outputs": [
    {
     "name": "stdout",
     "output_type": "stream",
     "text": [
      "[1, 21, 'ac', 3, 2, 1, 2, 3]\n",
      "[1, 'ac', 3, 2, 1, 2, 3]\n",
      "[1, 'ac', 3, 1, 2, 3]\n",
      "[1, 'ac', 3, 2, 3]\n"
     ]
    },
    {
     "data": {
      "text/plain": [
       "['ac', 3, 2, 3]"
      ]
     },
     "execution_count": 22,
     "metadata": {},
     "output_type": "execute_result"
    }
   ],
   "source": [
    "# Ways of deleting an element from the list\n",
    "\n",
    "# Using pop() without arguments - Deletes the element at the last position\n",
    "l.pop()\n",
    "print(l)\n",
    "\n",
    "# Using pop(index) - Deletes the element at the specified index\n",
    "l.pop(1) # The element at index 1 will be removed\n",
    "print(l)\n",
    "\n",
    "# Using remove(element) - To remove a particular element from the list. Note : Only the first occurence of the element will be removed\n",
    "l.remove(2)\n",
    "print(l) # First occurence of 2 will be removed from the list\n",
    "\n",
    "# del keword - To remove an element at a particular index\n",
    "del l[3] # Element at index 3 will be deleted\n",
    "print(l)\n",
    "\n",
    "del l[0:1] # To delete a specified range of indices\n",
    "l"
   ]
  },
  {
   "cell_type": "code",
   "execution_count": 23,
   "metadata": {},
   "outputs": [
    {
     "data": {
      "text/plain": [
       "['ac', 3, 2, 3, 'ac', 3, 2, 3]"
      ]
     },
     "execution_count": 23,
     "metadata": {},
     "output_type": "execute_result"
    }
   ],
   "source": [
    "# appending to lists\n",
    "l + l # Note : here the original list l does not gets changed\n",
    "\n",
    "# Note : Also note that the extend() function actually changed the orginal list"
   ]
  },
  {
   "cell_type": "code",
   "execution_count": 27,
   "metadata": {},
   "outputs": [
    {
     "data": {
      "text/plain": [
       "['ac', 3, 2, 3, 'ac', 3, 2, 3, 'ac', 3, 2, 3]"
      ]
     },
     "execution_count": 27,
     "metadata": {},
     "output_type": "execute_result"
    }
   ],
   "source": [
    "# Multiplication with an integer\n",
    "\n",
    "l * 3 # What happens here is that l is appended to l 3 times. \n",
    "\n",
    "# Note : Here also the original list doesnot gets changed\n",
    "# Note : Addition with integer is not possible"
   ]
  },
  {
   "cell_type": "code",
   "execution_count": 30,
   "metadata": {},
   "outputs": [
    {
     "data": {
      "text/plain": [
       "[0, 2, 3, 4, 5, 6, 7]"
      ]
     },
     "execution_count": 30,
     "metadata": {},
     "output_type": "execute_result"
    }
   ],
   "source": [
    "# Sorting a list\n",
    "l = [5, 2, 6, 7, 3, 4, 0]\n",
    "l.sort()\n",
    "l"
   ]
  },
  {
   "cell_type": "code",
   "execution_count": 31,
   "metadata": {},
   "outputs": [
    {
     "data": {
      "text/plain": [
       "1"
      ]
     },
     "execution_count": 31,
     "metadata": {},
     "output_type": "execute_result"
    }
   ],
   "source": [
    "# count(element) - This function returns the frequency of the element in the list\n",
    "l.count(2)"
   ]
  },
  {
   "cell_type": "code",
   "execution_count": 32,
   "metadata": {},
   "outputs": [
    {
     "data": {
      "text/plain": [
       "4"
      ]
     },
     "execution_count": 32,
     "metadata": {},
     "output_type": "execute_result"
    }
   ],
   "source": [
    "# index(element) - This function returns the index of a particular element in the list\n",
    "l.index(5)"
   ]
  },
  {
   "cell_type": "code",
   "execution_count": 36,
   "metadata": {},
   "outputs": [
    {
     "data": {
      "text/plain": [
       "[7, 6, 5, 4, 3, 2, 0]"
      ]
     },
     "execution_count": 36,
     "metadata": {},
     "output_type": "execute_result"
    }
   ],
   "source": [
    "# reverse() - To reverse a list\n",
    "l.reverse()\n",
    "l"
   ]
  },
  {
   "cell_type": "code",
   "execution_count": 38,
   "metadata": {},
   "outputs": [
    {
     "data": {
      "text/plain": [
       "True"
      ]
     },
     "execution_count": 38,
     "metadata": {},
     "output_type": "execute_result"
    }
   ],
   "source": [
    "7 in l # Returns a boolean value, tells me if a particular element is present in my list or not"
   ]
  },
  {
   "cell_type": "code",
   "execution_count": 40,
   "metadata": {},
   "outputs": [
    {
     "name": "stdout",
     "output_type": "stream",
     "text": [
      "[0, 1, 2, 3, 4]\n",
      "[[0, 0, 0], [0, 0, 0], [0, 0, 0], [0, 0, 0], [0, 0, 0]]\n"
     ]
    }
   ],
   "source": [
    "# 2D arrays\n",
    "\n",
    "# How to create 2D arrays\n",
    "l = [ i for i in range(5) ]\n",
    "print(l)\n",
    "\n",
    "l1 = [[0, 0, 0] for i in range(5)]\n",
    "print(l1)"
   ]
  },
  {
   "cell_type": "code",
   "execution_count": 42,
   "metadata": {},
   "outputs": [
    {
     "data": {
      "text/plain": [
       "[[0, 1, 2, 3, 4],\n",
       " [0, 1, 2, 3, 4],\n",
       " [0, 1, 2, 3, 4],\n",
       " [0, 1, 2, 3, 4],\n",
       " [0, 1, 2, 3, 4],\n",
       " [0, 1, 2, 3, 4],\n",
       " [0, 1, 2, 3, 4],\n",
       " [0, 1, 2, 3, 4],\n",
       " [0, 1, 2, 3, 4],\n",
       " [0, 1, 2, 3, 4]]"
      ]
     },
     "execution_count": 42,
     "metadata": {},
     "output_type": "execute_result"
    }
   ],
   "source": [
    "l2 = [ [j for j in range(5)] for i in range(10)]\n",
    "l2"
   ]
  },
  {
   "cell_type": "code",
   "execution_count": 43,
   "metadata": {},
   "outputs": [
    {
     "data": {
      "text/plain": [
       "[[0, 1, 2, 3, 4],\n",
       " [5, 6, 7, 8, 9],\n",
       " [10, 11, 12, 13, 14],\n",
       " [15, 16, 17, 18, 19],\n",
       " [20, 21, 22, 23, 24],\n",
       " [25, 26, 27, 28, 29],\n",
       " [30, 31, 32, 33, 34],\n",
       " [35, 36, 37, 38, 39],\n",
       " [40, 41, 42, 43, 44],\n",
       " [45, 46, 47, 48, 49]]"
      ]
     },
     "execution_count": 43,
     "metadata": {},
     "output_type": "execute_result"
    }
   ],
   "source": [
    "l2 = [[5 * i + j for j in range(5)] for i in range(10)]\n",
    "l2"
   ]
  },
  {
   "cell_type": "code",
   "execution_count": 46,
   "metadata": {},
   "outputs": [
    {
     "name": "stdout",
     "output_type": "stream",
     "text": [
      "2 3\n",
      "['2', '3']\n",
      "1 2 3 4 5 6\n"
     ]
    },
    {
     "data": {
      "text/plain": [
       "[1, 2, 3, 4, 5, 6]"
      ]
     },
     "execution_count": 46,
     "metadata": {},
     "output_type": "execute_result"
    }
   ],
   "source": [
    "# How to take input in to a 2D array\n",
    "str = input().strip().split(\" \")\n",
    "print(str)\n",
    "\n",
    "n = int(str[0])\n",
    "m = int(str[1])\n",
    "\n",
    "# here we are assuming that we are getting all the numbers in a single line\n",
    "\n",
    "l = [int(i) for i in input().strip().split(\" \")] # Note : input().strip().split(\" \") is a list, hence we are iterating over it\n",
    "l"
   ]
  },
  {
   "cell_type": "code",
   "execution_count": 49,
   "metadata": {},
   "outputs": [
    {
     "data": {
      "text/plain": [
       "[[1, 2, 3], [4, 5, 6]]"
      ]
     },
     "execution_count": 49,
     "metadata": {},
     "output_type": "execute_result"
    }
   ],
   "source": [
    "# To reshape the list we have got to a 2x3 matrix\n",
    "\n",
    "out = []\n",
    "# for i in range(n):\n",
    "#     out.append([l[i * m + j] for j in range(m)])\n",
    "\n",
    "# Condensing the above code again\n",
    "\n",
    "out = [[l[i*m + j] for j in range(m)] for i in range((n))]\n",
    "out"
   ]
  },
  {
   "cell_type": "code",
   "execution_count": 50,
   "metadata": {},
   "outputs": [
    {
     "data": {
      "text/plain": [
       "(2, 3)"
      ]
     },
     "execution_count": 50,
     "metadata": {},
     "output_type": "execute_result"
    }
   ],
   "source": [
    "# Wave print problem\n",
    "\n",
    "n = len(out) # No of rows\n",
    "m = len(out[0]) # No of columns, Note: it is assumed that the matrix has atleast one row\n",
    "\n",
    "n, m"
   ]
  },
  {
   "cell_type": "code",
   "execution_count": 51,
   "metadata": {},
   "outputs": [
    {
     "name": "stdout",
     "output_type": "stream",
     "text": [
      "1 4 5 2 3 6 "
     ]
    }
   ],
   "source": [
    "for j in range(m):\n",
    "    if j % 2 == 0:\n",
    "        for i in range(n):\n",
    "            print(out[i][j], end = \" \")\n",
    "    else:\n",
    "        i = n - 1\n",
    "        while i >= 0:\n",
    "            print(out[i][j], end = \" \")\n",
    "            i -= 1\n",
    "            \n",
    "# Note: The above while loop can be replaced with the following for loop\n",
    "# for i in range(n-1, -1, -1):\n",
    "    print(outp)"
   ]
  },
  {
   "cell_type": "code",
   "execution_count": null,
   "metadata": {},
   "outputs": [],
   "source": []
  }
 ],
 "metadata": {
  "kernelspec": {
   "display_name": "Python 3",
   "language": "python",
   "name": "python3"
  },
  "language_info": {
   "codemirror_mode": {
    "name": "ipython",
    "version": 3
   },
   "file_extension": ".py",
   "mimetype": "text/x-python",
   "name": "python",
   "nbconvert_exporter": "python",
   "pygments_lexer": "ipython3",
   "version": "3.8.5"
  }
 },
 "nbformat": 4,
 "nbformat_minor": 4
}
